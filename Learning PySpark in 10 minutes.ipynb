{
 "cells": [
  {
   "cell_type": "markdown",
   "metadata": {},
   "source": [
    "# Learning PySpark in 10 minutes  \n",
    "\n",
    "The dataframe in PySpark is used extensively for cleaning of files dumped in AWS S3 buckets. The cleaned dataframe is then written back to the bucket in CSV or parquet format.\n",
    "\n",
    "I have used the famous Oracle `scott/tiger` datasets of `EMP` and `DEPT`. I believe that working with 14 rows of known data gives an easier understanding of what is changing in the underlying dataset.\n",
    "\n",
    "The 2 files of `emp.csv` and `dept.csv` are also present in here so easy access. I have changed the formats of the hiredate column to make cleaning noticeable.\n",
    "\n"
   ]
  },
  {
   "cell_type": "code",
   "execution_count": 2,
   "metadata": {},
   "outputs": [
    {
     "name": "stdout",
     "output_type": "stream",
     "text": [
      "hello world\n"
     ]
    }
   ],
   "source": [
    "print('hello world')"
   ]
  },
  {
   "cell_type": "markdown",
   "metadata": {},
   "source": [
    "# h1 quick brown fox\n",
    "## h2 quick brown fox\n",
    "### h3 quick brown fox\n",
    "#### h4 quick brown fox\n",
    "##### h5 quick brown fox\n",
    "###### h6 quick brown fox\n",
    "\n",
    "```\n",
    "this is a block of code\n",
    "def foo():\n",
    "    return \"hello\"\n",
    "```\n",
    "1 checking for inline comment `employee` table\n",
    "2 checking for inline comment ``employee`` table\n",
    "3 checking for inline comment $employee$ table\n",
    "4 checking for inline comment `employee\\'s` table\n",
    "\n",
    "creating url for [emp.csv](emp.csv) table"
   ]
  }
 ],
 "metadata": {
  "kernelspec": {
   "display_name": "Python 3",
   "language": "python",
   "name": "python3"
  },
  "language_info": {
   "codemirror_mode": {
    "name": "ipython",
    "version": 3
   },
   "file_extension": ".py",
   "mimetype": "text/x-python",
   "name": "python",
   "nbconvert_exporter": "python",
   "pygments_lexer": "ipython3",
   "version": "3.6.5"
  }
 },
 "nbformat": 4,
 "nbformat_minor": 2
}
